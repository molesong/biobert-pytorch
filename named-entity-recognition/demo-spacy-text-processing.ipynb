{
 "cells": [
  {
   "cell_type": "code",
   "execution_count": 29,
   "metadata": {
    "collapsed": true
   },
   "outputs": [],
   "source": [
    "text = \"The sequel, Yes, Prime Minister, ran from 1986 to 1988. In total there were 38 episodes, of which all but one lasted half an hour. Almost all episodes ended with a variation of the title of the series spoken as the answer to a question posed by the same character, Jim Hacker. Several episodes were adapted for BBC Radio, and a stage play was produced in 2010, the latter leading to a new television series on UKTV Gold in 2013.\"\n",
    "text = \"In line with our findings in patients, a previous study found decreased levels of 18:0-LPC in mice with NASH\""
   ]
  },
  {
   "cell_type": "code",
   "execution_count": 30,
   "metadata": {},
   "outputs": [
    {
     "data": {
      "text/plain": [
       "'In line with our findings in patients, a previous study found decreased levels of 18:0-LPC in mice with NASH'"
      ]
     },
     "execution_count": 30,
     "metadata": {},
     "output_type": "execute_result"
    }
   ],
   "source": [
    "text"
   ]
  },
  {
   "cell_type": "code",
   "execution_count": 2,
   "metadata": {
    "collapsed": true
   },
   "outputs": [],
   "source": [
    "import spacy"
   ]
  },
  {
   "cell_type": "code",
   "execution_count": 3,
   "metadata": {},
   "outputs": [
    {
     "name": "stderr",
     "output_type": "stream",
     "text": [
      "/home/data/t200404/software/anaconda3/envs/python37_tsf_3/lib/python3.7/site-packages/spacy/language.py:2196: FutureWarning: Possible set union at position 6328\n",
      "  p, exclude=[\"vocab\"]\n"
     ]
    }
   ],
   "source": [
    "nlp = spacy.load('en_ner_bc5cdr_md')"
   ]
  },
  {
   "cell_type": "markdown",
   "metadata": {},
   "source": [
    "用nlp模型分析文本text，将结果命名为doc"
   ]
  },
  {
   "cell_type": "code",
   "execution_count": 33,
   "metadata": {
    "collapsed": true
   },
   "outputs": [],
   "source": [
    "doc = nlp(text)"
   ]
  },
  {
   "cell_type": "code",
   "execution_count": 34,
   "metadata": {},
   "outputs": [
    {
     "data": {
      "text/plain": [
       "In line with our findings in patients, a previous study found decreased levels of 18:0-LPC in mice with NASH"
      ]
     },
     "execution_count": 34,
     "metadata": {},
     "output_type": "execute_result"
    }
   ],
   "source": [
    "doc"
   ]
  },
  {
   "cell_type": "markdown",
   "metadata": {},
   "source": [
    "好像跟刚才的text内容没有区别呀？不还是这段文本吗？别着急，Spacy只是为了让我们看着舒服，所以只打印出来文本内容。\n",
    "\n",
    "其实，它在后台，已经对这段话进行了许多层次的分析。\n",
    "\n",
    "不信？ 我们来试试，让Spacy帮我们分析这段话中出现的全部词例（token）。"
   ]
  },
  {
   "cell_type": "code",
   "execution_count": 35,
   "metadata": {},
   "outputs": [
    {
     "name": "stdout",
     "output_type": "stream",
     "text": [
      "\"  In  \"\n",
      "\"  line  \"\n",
      "\"  with  \"\n",
      "\"  our  \"\n",
      "\"  findings  \"\n",
      "\"  in  \"\n",
      "\"  patients  \"\n",
      "\"  ,  \"\n",
      "\"  a  \"\n",
      "\"  previous  \"\n",
      "\"  study  \"\n",
      "\"  found  \"\n",
      "\"  decreased  \"\n",
      "\"  levels  \"\n",
      "\"  of  \"\n",
      "\"  18:0-LPC  \"\n",
      "\"  in  \"\n",
      "\"  mice  \"\n",
      "\"  with  \"\n",
      "\"  NASH  \"\n"
     ]
    }
   ],
   "source": [
    "for token in doc:\n",
    "    print('\"  ' + token.text + '  \"')"
   ]
  },
  {
   "cell_type": "markdown",
   "metadata": {},
   "source": [
    "# 1. 词性分析\n",
    "**除了词例内容本身，Spacy还把每个词例的一些属性信息，进行了处理。**   \n",
    "**下面，我们只对前10个词例（token），输出以下内容：**\n",
    "\n",
    "- 文本\n",
    "- 索引值（即在原文中的定位）\n",
    "- 词元(lemma)\n",
    "- 是否为标点符号\n",
    "- 是否为空格\n",
    "- 词性\n",
    "- 标记"
   ]
  },
  {
   "cell_type": "code",
   "execution_count": 36,
   "metadata": {},
   "outputs": [
    {
     "name": "stdout",
     "output_type": "stream",
     "text": [
      "In\t\t0\tin\tFalse\tFalse\tXx\tADP\tIN\n",
      "line\t\t3\tline\tFalse\tFalse\txxxx\tNOUN\tNN\n",
      "with\t\t8\twith\tFalse\tFalse\txxxx\tADP\tIN\n",
      "our\t\t13\tour\tFalse\tFalse\txxx\tPRON\tPRP$\n",
      "findings\t\t17\tfinding\tFalse\tFalse\txxxx\tNOUN\tNNS\n",
      "in\t\t26\tin\tFalse\tFalse\txx\tADP\tIN\n",
      "patients\t\t29\tpatient\tFalse\tFalse\txxxx\tNOUN\tNNS\n",
      ",\t\t37\t,\tTrue\tFalse\t,\tPUNCT\t,\n",
      "a\t\t39\ta\tFalse\tFalse\tx\tDET\tDT\n",
      "previous\t\t41\tprevious\tFalse\tFalse\txxxx\tADJ\tJJ\n"
     ]
    }
   ],
   "source": [
    "for token in doc[:10]:\n",
    "    print(\"{0}\\t\\t{1}\\t{2}\\t{3}\\t{4}\\t{5}\\t{6}\\t{7}\".format(\n",
    "        token.text,\n",
    "        token.idx,\n",
    "        token.lemma_,\n",
    "        token.is_punct,\n",
    "        token.is_space,\n",
    "        token.shape_,\n",
    "        token.pos_,\n",
    "        token.tag_\n",
    "    ))"
   ]
  },
  {
   "cell_type": "markdown",
   "metadata": {},
   "source": [
    "    \n",
    "---\n",
    "# 2. 命名实体识别\n",
    "**下面我们不再考虑全部词性，只关注文本中出现的实体（entity）词汇**\n"
   ]
  },
  {
   "cell_type": "code",
   "execution_count": 37,
   "metadata": {},
   "outputs": [
    {
     "name": "stdout",
     "output_type": "stream",
     "text": [
      "NASH DISEASE\n"
     ]
    }
   ],
   "source": [
    "for ent in doc.ents:\n",
    "    print(ent.text, ent.label_)"
   ]
  },
  {
   "cell_type": "code",
   "execution_count": 38,
   "metadata": {},
   "outputs": [
    {
     "data": {
      "text/plain": [
       "(NASH,)"
      ]
     },
     "execution_count": 38,
     "metadata": {},
     "output_type": "execute_result"
    }
   ],
   "source": [
    "doc.ents"
   ]
  },
  {
   "cell_type": "markdown",
   "metadata": {},
   "source": [
    "**在这一段文字中，出现的实体包括日期、时间、基数（Cardinal）……Spacy不仅自动识别出了Jim Hacker为人名，还正确判定BBC Radio和UKTV Gold为机构名称。**\n",
    "\n",
    "如果你平时的工作，需要从海量评论里筛选潜在竞争产品或者竞争者，那看到这里，有没有一点儿灵感呢？\n",
    "\n",
    "执行下面这段代码，看看会发生什么："
   ]
  },
  {
   "cell_type": "code",
   "execution_count": 39,
   "metadata": {},
   "outputs": [
    {
     "data": {
      "text/html": [
       "<span class=\"tex2jax_ignore\"><div class=\"entities\" style=\"line-height: 2.5; direction: ltr\">In line with our findings in patients, a previous study found decreased levels of 18:0-LPC in mice with \n",
       "<mark class=\"entity\" style=\"background: #ddd; padding: 0.45em 0.6em; margin: 0 0.25em; line-height: 1; border-radius: 0.35em;\">\n",
       "    NASH\n",
       "    <span style=\"font-size: 0.8em; font-weight: bold; line-height: 1; border-radius: 0.35em; vertical-align: middle; margin-left: 0.5rem\">DISEASE</span>\n",
       "</mark>\n",
       "</div></span>"
      ],
      "text/plain": [
       "<IPython.core.display.HTML object>"
      ]
     },
     "metadata": {},
     "output_type": "display_data"
    }
   ],
   "source": [
    "from spacy import displacy\n",
    "displacy.render(doc, style='ent', jupyter=True)"
   ]
  },
  {
   "cell_type": "markdown",
   "metadata": {},
   "source": [
    "**如上图所示，Spacy帮我们把实体识别的结果，进行了直观的可视化。不同类别的实体，还采用了不同的颜色加以区分。**\n",
    "\n",
    "---\n",
    "###  **把一段文字拆解为语句，对Spacy而言，也是小菜一碟。**"
   ]
  },
  {
   "cell_type": "code",
   "execution_count": 40,
   "metadata": {},
   "outputs": [
    {
     "name": "stdout",
     "output_type": "stream",
     "text": [
      "In line with our findings in patients, a previous study found decreased levels of 18:0-LPC in mice with NASH\n"
     ]
    }
   ],
   "source": [
    "for sent in doc.sents:\n",
    "    print(sent)"
   ]
  },
  {
   "cell_type": "markdown",
   "metadata": {},
   "source": [
    "---\n",
    "**注意这里，doc.sents并不是个列表类型，而是一个生成器 generator **    \n",
    "**所以，假设我们需要从中筛选出某一句话，需要先将其转化为列表。**"
   ]
  },
  {
   "cell_type": "code",
   "execution_count": 41,
   "metadata": {},
   "outputs": [
    {
     "data": {
      "text/plain": [
       "<generator at 0x7f361f64c100>"
      ]
     },
     "execution_count": 41,
     "metadata": {},
     "output_type": "execute_result"
    }
   ],
   "source": [
    "doc.sents"
   ]
  },
  {
   "cell_type": "code",
   "execution_count": 42,
   "metadata": {},
   "outputs": [
    {
     "data": {
      "text/plain": [
       "[In line with our findings in patients, a previous study found decreased levels of 18:0-LPC in mice with NASH]"
      ]
     },
     "execution_count": 42,
     "metadata": {},
     "output_type": "execute_result"
    }
   ],
   "source": [
    "list(doc.sents)"
   ]
  },
  {
   "cell_type": "markdown",
   "metadata": {},
   "source": [
    "------\n",
    "# 3. 语法 --- 依赖关系刻画\n",
    "\n",
    "下面要展示的功能，分析范围局限在第一句话。\n",
    "\n",
    "我们将其抽取出来，并且重新用nlp模型处理，存入到新的变量newdoc中。"
   ]
  },
  {
   "cell_type": "code",
   "execution_count": 43,
   "metadata": {
    "collapsed": true
   },
   "outputs": [],
   "source": [
    "newdoc = nlp(list(doc.sents)[0].text)"
   ]
  },
  {
   "cell_type": "code",
   "execution_count": 44,
   "metadata": {},
   "outputs": [
    {
     "data": {
      "text/plain": [
       "In line with our findings in patients, a previous study found decreased levels of 18:0-LPC in mice with NASH"
      ]
     },
     "execution_count": 44,
     "metadata": {},
     "output_type": "execute_result"
    }
   ],
   "source": [
    "newdoc"
   ]
  },
  {
   "cell_type": "markdown",
   "metadata": {},
   "source": [
    "**对这一句话，我们想要搞清其中每一个词例（token）之间的依赖关系。**"
   ]
  },
  {
   "cell_type": "code",
   "execution_count": 45,
   "metadata": {},
   "outputs": [
    {
     "name": "stdout",
     "output_type": "stream",
     "text": [
      "In(IN) <--case-- line(NN)\n",
      "line(NN) <--nmod-- found(VBD)\n",
      "with(IN) <--case-- findings(NNS)\n",
      "our(PRP$) <--nmod:poss-- findings(NNS)\n",
      "findings(NNS) <--nmod-- line(NN)\n",
      "in(IN) <--case-- patients(NNS)\n",
      "patients(NNS) <--nmod-- findings(NNS)\n",
      ",(,) <--punct-- found(VBD)\n",
      "a(DT) <--det-- study(NN)\n",
      "previous(JJ) <--amod-- study(NN)\n",
      "study(NN) <--nsubj-- found(VBD)\n",
      "found(VBD) <--ROOT-- found(VBD)\n",
      "decreased(VBN) <--amod-- levels(NNS)\n",
      "levels(NNS) <--dobj-- found(VBD)\n",
      "of(IN) <--case-- 18:0-LPC(JJ)\n",
      "18:0-LPC(JJ) <--nmod-- levels(NNS)\n",
      "in(IN) <--case-- mice(NNS)\n",
      "mice(NNS) <--nmod-- levels(NNS)\n",
      "with(IN) <--case-- NASH(NN)\n",
      "NASH(NN) <--nmod-- levels(NNS)\n"
     ]
    }
   ],
   "source": [
    "for token in newdoc:\n",
    "    print(\"{0}({1}) <--{2}-- {3}({4})\".format(\n",
    "        token.text, token.tag_, token.dep_, token.head.text, token.head.tag_))"
   ]
  },
  {
   "cell_type": "markdown",
   "metadata": {},
   "source": [
    "### 词性依赖关系可视化\n",
    "**很清晰，但是列表的方式，似乎不大直观。那就让Spacy帮我们可视化吧。**"
   ]
  },
  {
   "cell_type": "code",
   "execution_count": 46,
   "metadata": {},
   "outputs": [
    {
     "data": {
      "text/html": [
       "<span class=\"tex2jax_ignore\"><svg xmlns=\"http://www.w3.org/2000/svg\" xmlns:xlink=\"http://www.w3.org/1999/xlink\" xml:lang=\"en\" id=\"ba92f35013d5410e91fe8f75abebf4af-0\" class=\"displacy\" width=\"1760\" height=\"317.0\" direction=\"ltr\" style=\"max-width: none; height: 317.0px; color: #000000; background: #ffffff; font-family: Arial; direction: ltr\">\n",
       "<text class=\"displacy-token\" fill=\"currentColor\" text-anchor=\"middle\" y=\"227.0\">\n",
       "    <tspan class=\"displacy-word\" fill=\"currentColor\" x=\"50\">In</tspan>\n",
       "    <tspan class=\"displacy-tag\" dy=\"2em\" fill=\"currentColor\" x=\"50\">ADP</tspan>\n",
       "</text>\n",
       "\n",
       "<text class=\"displacy-token\" fill=\"currentColor\" text-anchor=\"middle\" y=\"227.0\">\n",
       "    <tspan class=\"displacy-word\" fill=\"currentColor\" x=\"140\">line</tspan>\n",
       "    <tspan class=\"displacy-tag\" dy=\"2em\" fill=\"currentColor\" x=\"140\">NOUN</tspan>\n",
       "</text>\n",
       "\n",
       "<text class=\"displacy-token\" fill=\"currentColor\" text-anchor=\"middle\" y=\"227.0\">\n",
       "    <tspan class=\"displacy-word\" fill=\"currentColor\" x=\"230\">with</tspan>\n",
       "    <tspan class=\"displacy-tag\" dy=\"2em\" fill=\"currentColor\" x=\"230\">ADP</tspan>\n",
       "</text>\n",
       "\n",
       "<text class=\"displacy-token\" fill=\"currentColor\" text-anchor=\"middle\" y=\"227.0\">\n",
       "    <tspan class=\"displacy-word\" fill=\"currentColor\" x=\"320\">our</tspan>\n",
       "    <tspan class=\"displacy-tag\" dy=\"2em\" fill=\"currentColor\" x=\"320\">PRON</tspan>\n",
       "</text>\n",
       "\n",
       "<text class=\"displacy-token\" fill=\"currentColor\" text-anchor=\"middle\" y=\"227.0\">\n",
       "    <tspan class=\"displacy-word\" fill=\"currentColor\" x=\"410\">findings</tspan>\n",
       "    <tspan class=\"displacy-tag\" dy=\"2em\" fill=\"currentColor\" x=\"410\">NOUN</tspan>\n",
       "</text>\n",
       "\n",
       "<text class=\"displacy-token\" fill=\"currentColor\" text-anchor=\"middle\" y=\"227.0\">\n",
       "    <tspan class=\"displacy-word\" fill=\"currentColor\" x=\"500\">in</tspan>\n",
       "    <tspan class=\"displacy-tag\" dy=\"2em\" fill=\"currentColor\" x=\"500\">ADP</tspan>\n",
       "</text>\n",
       "\n",
       "<text class=\"displacy-token\" fill=\"currentColor\" text-anchor=\"middle\" y=\"227.0\">\n",
       "    <tspan class=\"displacy-word\" fill=\"currentColor\" x=\"590\">patients,</tspan>\n",
       "    <tspan class=\"displacy-tag\" dy=\"2em\" fill=\"currentColor\" x=\"590\">NOUN</tspan>\n",
       "</text>\n",
       "\n",
       "<text class=\"displacy-token\" fill=\"currentColor\" text-anchor=\"middle\" y=\"227.0\">\n",
       "    <tspan class=\"displacy-word\" fill=\"currentColor\" x=\"680\">a</tspan>\n",
       "    <tspan class=\"displacy-tag\" dy=\"2em\" fill=\"currentColor\" x=\"680\">DET</tspan>\n",
       "</text>\n",
       "\n",
       "<text class=\"displacy-token\" fill=\"currentColor\" text-anchor=\"middle\" y=\"227.0\">\n",
       "    <tspan class=\"displacy-word\" fill=\"currentColor\" x=\"770\">previous</tspan>\n",
       "    <tspan class=\"displacy-tag\" dy=\"2em\" fill=\"currentColor\" x=\"770\">ADJ</tspan>\n",
       "</text>\n",
       "\n",
       "<text class=\"displacy-token\" fill=\"currentColor\" text-anchor=\"middle\" y=\"227.0\">\n",
       "    <tspan class=\"displacy-word\" fill=\"currentColor\" x=\"860\">study</tspan>\n",
       "    <tspan class=\"displacy-tag\" dy=\"2em\" fill=\"currentColor\" x=\"860\">NOUN</tspan>\n",
       "</text>\n",
       "\n",
       "<text class=\"displacy-token\" fill=\"currentColor\" text-anchor=\"middle\" y=\"227.0\">\n",
       "    <tspan class=\"displacy-word\" fill=\"currentColor\" x=\"950\">found</tspan>\n",
       "    <tspan class=\"displacy-tag\" dy=\"2em\" fill=\"currentColor\" x=\"950\">VERB</tspan>\n",
       "</text>\n",
       "\n",
       "<text class=\"displacy-token\" fill=\"currentColor\" text-anchor=\"middle\" y=\"227.0\">\n",
       "    <tspan class=\"displacy-word\" fill=\"currentColor\" x=\"1040\">decreased</tspan>\n",
       "    <tspan class=\"displacy-tag\" dy=\"2em\" fill=\"currentColor\" x=\"1040\">VERB</tspan>\n",
       "</text>\n",
       "\n",
       "<text class=\"displacy-token\" fill=\"currentColor\" text-anchor=\"middle\" y=\"227.0\">\n",
       "    <tspan class=\"displacy-word\" fill=\"currentColor\" x=\"1130\">levels</tspan>\n",
       "    <tspan class=\"displacy-tag\" dy=\"2em\" fill=\"currentColor\" x=\"1130\">NOUN</tspan>\n",
       "</text>\n",
       "\n",
       "<text class=\"displacy-token\" fill=\"currentColor\" text-anchor=\"middle\" y=\"227.0\">\n",
       "    <tspan class=\"displacy-word\" fill=\"currentColor\" x=\"1220\">of</tspan>\n",
       "    <tspan class=\"displacy-tag\" dy=\"2em\" fill=\"currentColor\" x=\"1220\">ADP</tspan>\n",
       "</text>\n",
       "\n",
       "<text class=\"displacy-token\" fill=\"currentColor\" text-anchor=\"middle\" y=\"227.0\">\n",
       "    <tspan class=\"displacy-word\" fill=\"currentColor\" x=\"1310\">18:0-LPC</tspan>\n",
       "    <tspan class=\"displacy-tag\" dy=\"2em\" fill=\"currentColor\" x=\"1310\">ADJ</tspan>\n",
       "</text>\n",
       "\n",
       "<text class=\"displacy-token\" fill=\"currentColor\" text-anchor=\"middle\" y=\"227.0\">\n",
       "    <tspan class=\"displacy-word\" fill=\"currentColor\" x=\"1400\">in</tspan>\n",
       "    <tspan class=\"displacy-tag\" dy=\"2em\" fill=\"currentColor\" x=\"1400\">ADP</tspan>\n",
       "</text>\n",
       "\n",
       "<text class=\"displacy-token\" fill=\"currentColor\" text-anchor=\"middle\" y=\"227.0\">\n",
       "    <tspan class=\"displacy-word\" fill=\"currentColor\" x=\"1490\">mice</tspan>\n",
       "    <tspan class=\"displacy-tag\" dy=\"2em\" fill=\"currentColor\" x=\"1490\">NOUN</tspan>\n",
       "</text>\n",
       "\n",
       "<text class=\"displacy-token\" fill=\"currentColor\" text-anchor=\"middle\" y=\"227.0\">\n",
       "    <tspan class=\"displacy-word\" fill=\"currentColor\" x=\"1580\">with</tspan>\n",
       "    <tspan class=\"displacy-tag\" dy=\"2em\" fill=\"currentColor\" x=\"1580\">ADP</tspan>\n",
       "</text>\n",
       "\n",
       "<text class=\"displacy-token\" fill=\"currentColor\" text-anchor=\"middle\" y=\"227.0\">\n",
       "    <tspan class=\"displacy-word\" fill=\"currentColor\" x=\"1670\">NASH</tspan>\n",
       "    <tspan class=\"displacy-tag\" dy=\"2em\" fill=\"currentColor\" x=\"1670\">NOUN</tspan>\n",
       "</text>\n",
       "\n",
       "<g class=\"displacy-arrow\">\n",
       "    <path class=\"displacy-arc\" id=\"arrow-ba92f35013d5410e91fe8f75abebf4af-0-0\" stroke-width=\"2px\" d=\"M70,182.0 C70,137.0 125.0,137.0 125.0,182.0\" fill=\"none\" stroke=\"currentColor\"/>\n",
       "    <text dy=\"1.25em\" style=\"font-size: 0.8em; letter-spacing: 1px\">\n",
       "        <textPath xlink:href=\"#arrow-ba92f35013d5410e91fe8f75abebf4af-0-0\" class=\"displacy-label\" startOffset=\"50%\" side=\"left\" fill=\"currentColor\" text-anchor=\"middle\">case</textPath>\n",
       "    </text>\n",
       "    <path class=\"displacy-arrowhead\" d=\"M70,184.0 L62,172.0 78,172.0\" fill=\"currentColor\"/>\n",
       "</g>\n",
       "\n",
       "<g class=\"displacy-arrow\">\n",
       "    <path class=\"displacy-arc\" id=\"arrow-ba92f35013d5410e91fe8f75abebf4af-0-1\" stroke-width=\"2px\" d=\"M160,182.0 C160,2.0 950.0,2.0 950.0,182.0\" fill=\"none\" stroke=\"currentColor\"/>\n",
       "    <text dy=\"1.25em\" style=\"font-size: 0.8em; letter-spacing: 1px\">\n",
       "        <textPath xlink:href=\"#arrow-ba92f35013d5410e91fe8f75abebf4af-0-1\" class=\"displacy-label\" startOffset=\"50%\" side=\"left\" fill=\"currentColor\" text-anchor=\"middle\">nmod</textPath>\n",
       "    </text>\n",
       "    <path class=\"displacy-arrowhead\" d=\"M160,184.0 L152,172.0 168,172.0\" fill=\"currentColor\"/>\n",
       "</g>\n",
       "\n",
       "<g class=\"displacy-arrow\">\n",
       "    <path class=\"displacy-arc\" id=\"arrow-ba92f35013d5410e91fe8f75abebf4af-0-2\" stroke-width=\"2px\" d=\"M250,182.0 C250,92.0 400.0,92.0 400.0,182.0\" fill=\"none\" stroke=\"currentColor\"/>\n",
       "    <text dy=\"1.25em\" style=\"font-size: 0.8em; letter-spacing: 1px\">\n",
       "        <textPath xlink:href=\"#arrow-ba92f35013d5410e91fe8f75abebf4af-0-2\" class=\"displacy-label\" startOffset=\"50%\" side=\"left\" fill=\"currentColor\" text-anchor=\"middle\">case</textPath>\n",
       "    </text>\n",
       "    <path class=\"displacy-arrowhead\" d=\"M250,184.0 L242,172.0 258,172.0\" fill=\"currentColor\"/>\n",
       "</g>\n",
       "\n",
       "<g class=\"displacy-arrow\">\n",
       "    <path class=\"displacy-arc\" id=\"arrow-ba92f35013d5410e91fe8f75abebf4af-0-3\" stroke-width=\"2px\" d=\"M340,182.0 C340,137.0 395.0,137.0 395.0,182.0\" fill=\"none\" stroke=\"currentColor\"/>\n",
       "    <text dy=\"1.25em\" style=\"font-size: 0.8em; letter-spacing: 1px\">\n",
       "        <textPath xlink:href=\"#arrow-ba92f35013d5410e91fe8f75abebf4af-0-3\" class=\"displacy-label\" startOffset=\"50%\" side=\"left\" fill=\"currentColor\" text-anchor=\"middle\">nmod:poss</textPath>\n",
       "    </text>\n",
       "    <path class=\"displacy-arrowhead\" d=\"M340,184.0 L332,172.0 348,172.0\" fill=\"currentColor\"/>\n",
       "</g>\n",
       "\n",
       "<g class=\"displacy-arrow\">\n",
       "    <path class=\"displacy-arc\" id=\"arrow-ba92f35013d5410e91fe8f75abebf4af-0-4\" stroke-width=\"2px\" d=\"M160,182.0 C160,47.0 405.0,47.0 405.0,182.0\" fill=\"none\" stroke=\"currentColor\"/>\n",
       "    <text dy=\"1.25em\" style=\"font-size: 0.8em; letter-spacing: 1px\">\n",
       "        <textPath xlink:href=\"#arrow-ba92f35013d5410e91fe8f75abebf4af-0-4\" class=\"displacy-label\" startOffset=\"50%\" side=\"left\" fill=\"currentColor\" text-anchor=\"middle\">nmod</textPath>\n",
       "    </text>\n",
       "    <path class=\"displacy-arrowhead\" d=\"M405.0,184.0 L413.0,172.0 397.0,172.0\" fill=\"currentColor\"/>\n",
       "</g>\n",
       "\n",
       "<g class=\"displacy-arrow\">\n",
       "    <path class=\"displacy-arc\" id=\"arrow-ba92f35013d5410e91fe8f75abebf4af-0-5\" stroke-width=\"2px\" d=\"M520,182.0 C520,137.0 575.0,137.0 575.0,182.0\" fill=\"none\" stroke=\"currentColor\"/>\n",
       "    <text dy=\"1.25em\" style=\"font-size: 0.8em; letter-spacing: 1px\">\n",
       "        <textPath xlink:href=\"#arrow-ba92f35013d5410e91fe8f75abebf4af-0-5\" class=\"displacy-label\" startOffset=\"50%\" side=\"left\" fill=\"currentColor\" text-anchor=\"middle\">case</textPath>\n",
       "    </text>\n",
       "    <path class=\"displacy-arrowhead\" d=\"M520,184.0 L512,172.0 528,172.0\" fill=\"currentColor\"/>\n",
       "</g>\n",
       "\n",
       "<g class=\"displacy-arrow\">\n",
       "    <path class=\"displacy-arc\" id=\"arrow-ba92f35013d5410e91fe8f75abebf4af-0-6\" stroke-width=\"2px\" d=\"M430,182.0 C430,92.0 580.0,92.0 580.0,182.0\" fill=\"none\" stroke=\"currentColor\"/>\n",
       "    <text dy=\"1.25em\" style=\"font-size: 0.8em; letter-spacing: 1px\">\n",
       "        <textPath xlink:href=\"#arrow-ba92f35013d5410e91fe8f75abebf4af-0-6\" class=\"displacy-label\" startOffset=\"50%\" side=\"left\" fill=\"currentColor\" text-anchor=\"middle\">nmod</textPath>\n",
       "    </text>\n",
       "    <path class=\"displacy-arrowhead\" d=\"M580.0,184.0 L588.0,172.0 572.0,172.0\" fill=\"currentColor\"/>\n",
       "</g>\n",
       "\n",
       "<g class=\"displacy-arrow\">\n",
       "    <path class=\"displacy-arc\" id=\"arrow-ba92f35013d5410e91fe8f75abebf4af-0-7\" stroke-width=\"2px\" d=\"M700,182.0 C700,92.0 850.0,92.0 850.0,182.0\" fill=\"none\" stroke=\"currentColor\"/>\n",
       "    <text dy=\"1.25em\" style=\"font-size: 0.8em; letter-spacing: 1px\">\n",
       "        <textPath xlink:href=\"#arrow-ba92f35013d5410e91fe8f75abebf4af-0-7\" class=\"displacy-label\" startOffset=\"50%\" side=\"left\" fill=\"currentColor\" text-anchor=\"middle\">det</textPath>\n",
       "    </text>\n",
       "    <path class=\"displacy-arrowhead\" d=\"M700,184.0 L692,172.0 708,172.0\" fill=\"currentColor\"/>\n",
       "</g>\n",
       "\n",
       "<g class=\"displacy-arrow\">\n",
       "    <path class=\"displacy-arc\" id=\"arrow-ba92f35013d5410e91fe8f75abebf4af-0-8\" stroke-width=\"2px\" d=\"M790,182.0 C790,137.0 845.0,137.0 845.0,182.0\" fill=\"none\" stroke=\"currentColor\"/>\n",
       "    <text dy=\"1.25em\" style=\"font-size: 0.8em; letter-spacing: 1px\">\n",
       "        <textPath xlink:href=\"#arrow-ba92f35013d5410e91fe8f75abebf4af-0-8\" class=\"displacy-label\" startOffset=\"50%\" side=\"left\" fill=\"currentColor\" text-anchor=\"middle\">amod</textPath>\n",
       "    </text>\n",
       "    <path class=\"displacy-arrowhead\" d=\"M790,184.0 L782,172.0 798,172.0\" fill=\"currentColor\"/>\n",
       "</g>\n",
       "\n",
       "<g class=\"displacy-arrow\">\n",
       "    <path class=\"displacy-arc\" id=\"arrow-ba92f35013d5410e91fe8f75abebf4af-0-9\" stroke-width=\"2px\" d=\"M880,182.0 C880,137.0 935.0,137.0 935.0,182.0\" fill=\"none\" stroke=\"currentColor\"/>\n",
       "    <text dy=\"1.25em\" style=\"font-size: 0.8em; letter-spacing: 1px\">\n",
       "        <textPath xlink:href=\"#arrow-ba92f35013d5410e91fe8f75abebf4af-0-9\" class=\"displacy-label\" startOffset=\"50%\" side=\"left\" fill=\"currentColor\" text-anchor=\"middle\">nsubj</textPath>\n",
       "    </text>\n",
       "    <path class=\"displacy-arrowhead\" d=\"M880,184.0 L872,172.0 888,172.0\" fill=\"currentColor\"/>\n",
       "</g>\n",
       "\n",
       "<g class=\"displacy-arrow\">\n",
       "    <path class=\"displacy-arc\" id=\"arrow-ba92f35013d5410e91fe8f75abebf4af-0-10\" stroke-width=\"2px\" d=\"M1060,182.0 C1060,137.0 1115.0,137.0 1115.0,182.0\" fill=\"none\" stroke=\"currentColor\"/>\n",
       "    <text dy=\"1.25em\" style=\"font-size: 0.8em; letter-spacing: 1px\">\n",
       "        <textPath xlink:href=\"#arrow-ba92f35013d5410e91fe8f75abebf4af-0-10\" class=\"displacy-label\" startOffset=\"50%\" side=\"left\" fill=\"currentColor\" text-anchor=\"middle\">amod</textPath>\n",
       "    </text>\n",
       "    <path class=\"displacy-arrowhead\" d=\"M1060,184.0 L1052,172.0 1068,172.0\" fill=\"currentColor\"/>\n",
       "</g>\n",
       "\n",
       "<g class=\"displacy-arrow\">\n",
       "    <path class=\"displacy-arc\" id=\"arrow-ba92f35013d5410e91fe8f75abebf4af-0-11\" stroke-width=\"2px\" d=\"M970,182.0 C970,92.0 1120.0,92.0 1120.0,182.0\" fill=\"none\" stroke=\"currentColor\"/>\n",
       "    <text dy=\"1.25em\" style=\"font-size: 0.8em; letter-spacing: 1px\">\n",
       "        <textPath xlink:href=\"#arrow-ba92f35013d5410e91fe8f75abebf4af-0-11\" class=\"displacy-label\" startOffset=\"50%\" side=\"left\" fill=\"currentColor\" text-anchor=\"middle\">dobj</textPath>\n",
       "    </text>\n",
       "    <path class=\"displacy-arrowhead\" d=\"M1120.0,184.0 L1128.0,172.0 1112.0,172.0\" fill=\"currentColor\"/>\n",
       "</g>\n",
       "\n",
       "<g class=\"displacy-arrow\">\n",
       "    <path class=\"displacy-arc\" id=\"arrow-ba92f35013d5410e91fe8f75abebf4af-0-12\" stroke-width=\"2px\" d=\"M1240,182.0 C1240,137.0 1295.0,137.0 1295.0,182.0\" fill=\"none\" stroke=\"currentColor\"/>\n",
       "    <text dy=\"1.25em\" style=\"font-size: 0.8em; letter-spacing: 1px\">\n",
       "        <textPath xlink:href=\"#arrow-ba92f35013d5410e91fe8f75abebf4af-0-12\" class=\"displacy-label\" startOffset=\"50%\" side=\"left\" fill=\"currentColor\" text-anchor=\"middle\">case</textPath>\n",
       "    </text>\n",
       "    <path class=\"displacy-arrowhead\" d=\"M1240,184.0 L1232,172.0 1248,172.0\" fill=\"currentColor\"/>\n",
       "</g>\n",
       "\n",
       "<g class=\"displacy-arrow\">\n",
       "    <path class=\"displacy-arc\" id=\"arrow-ba92f35013d5410e91fe8f75abebf4af-0-13\" stroke-width=\"2px\" d=\"M1150,182.0 C1150,92.0 1300.0,92.0 1300.0,182.0\" fill=\"none\" stroke=\"currentColor\"/>\n",
       "    <text dy=\"1.25em\" style=\"font-size: 0.8em; letter-spacing: 1px\">\n",
       "        <textPath xlink:href=\"#arrow-ba92f35013d5410e91fe8f75abebf4af-0-13\" class=\"displacy-label\" startOffset=\"50%\" side=\"left\" fill=\"currentColor\" text-anchor=\"middle\">nmod</textPath>\n",
       "    </text>\n",
       "    <path class=\"displacy-arrowhead\" d=\"M1300.0,184.0 L1308.0,172.0 1292.0,172.0\" fill=\"currentColor\"/>\n",
       "</g>\n",
       "\n",
       "<g class=\"displacy-arrow\">\n",
       "    <path class=\"displacy-arc\" id=\"arrow-ba92f35013d5410e91fe8f75abebf4af-0-14\" stroke-width=\"2px\" d=\"M1420,182.0 C1420,137.0 1475.0,137.0 1475.0,182.0\" fill=\"none\" stroke=\"currentColor\"/>\n",
       "    <text dy=\"1.25em\" style=\"font-size: 0.8em; letter-spacing: 1px\">\n",
       "        <textPath xlink:href=\"#arrow-ba92f35013d5410e91fe8f75abebf4af-0-14\" class=\"displacy-label\" startOffset=\"50%\" side=\"left\" fill=\"currentColor\" text-anchor=\"middle\">case</textPath>\n",
       "    </text>\n",
       "    <path class=\"displacy-arrowhead\" d=\"M1420,184.0 L1412,172.0 1428,172.0\" fill=\"currentColor\"/>\n",
       "</g>\n",
       "\n",
       "<g class=\"displacy-arrow\">\n",
       "    <path class=\"displacy-arc\" id=\"arrow-ba92f35013d5410e91fe8f75abebf4af-0-15\" stroke-width=\"2px\" d=\"M1150,182.0 C1150,47.0 1485.0,47.0 1485.0,182.0\" fill=\"none\" stroke=\"currentColor\"/>\n",
       "    <text dy=\"1.25em\" style=\"font-size: 0.8em; letter-spacing: 1px\">\n",
       "        <textPath xlink:href=\"#arrow-ba92f35013d5410e91fe8f75abebf4af-0-15\" class=\"displacy-label\" startOffset=\"50%\" side=\"left\" fill=\"currentColor\" text-anchor=\"middle\">nmod</textPath>\n",
       "    </text>\n",
       "    <path class=\"displacy-arrowhead\" d=\"M1485.0,184.0 L1493.0,172.0 1477.0,172.0\" fill=\"currentColor\"/>\n",
       "</g>\n",
       "\n",
       "<g class=\"displacy-arrow\">\n",
       "    <path class=\"displacy-arc\" id=\"arrow-ba92f35013d5410e91fe8f75abebf4af-0-16\" stroke-width=\"2px\" d=\"M1600,182.0 C1600,137.0 1655.0,137.0 1655.0,182.0\" fill=\"none\" stroke=\"currentColor\"/>\n",
       "    <text dy=\"1.25em\" style=\"font-size: 0.8em; letter-spacing: 1px\">\n",
       "        <textPath xlink:href=\"#arrow-ba92f35013d5410e91fe8f75abebf4af-0-16\" class=\"displacy-label\" startOffset=\"50%\" side=\"left\" fill=\"currentColor\" text-anchor=\"middle\">case</textPath>\n",
       "    </text>\n",
       "    <path class=\"displacy-arrowhead\" d=\"M1600,184.0 L1592,172.0 1608,172.0\" fill=\"currentColor\"/>\n",
       "</g>\n",
       "\n",
       "<g class=\"displacy-arrow\">\n",
       "    <path class=\"displacy-arc\" id=\"arrow-ba92f35013d5410e91fe8f75abebf4af-0-17\" stroke-width=\"2px\" d=\"M1150,182.0 C1150,2.0 1670.0,2.0 1670.0,182.0\" fill=\"none\" stroke=\"currentColor\"/>\n",
       "    <text dy=\"1.25em\" style=\"font-size: 0.8em; letter-spacing: 1px\">\n",
       "        <textPath xlink:href=\"#arrow-ba92f35013d5410e91fe8f75abebf4af-0-17\" class=\"displacy-label\" startOffset=\"50%\" side=\"left\" fill=\"currentColor\" text-anchor=\"middle\">nmod</textPath>\n",
       "    </text>\n",
       "    <path class=\"displacy-arrowhead\" d=\"M1670.0,184.0 L1678.0,172.0 1662.0,172.0\" fill=\"currentColor\"/>\n",
       "</g>\n",
       "</svg></span>"
      ],
      "text/plain": [
       "<IPython.core.display.HTML object>"
      ]
     },
     "metadata": {},
     "output_type": "display_data"
    }
   ],
   "source": [
    "displacy.render(newdoc, style='dep', jupyter=True, options={'distance': 90})"
   ]
  },
  {
   "cell_type": "markdown",
   "metadata": {},
   "source": [
    "### 分析：\n",
    "这些依赖关系链接上的词汇，都代表什么？\n",
    "\n",
    "如果你对语言学比较了解，应该能看懂。\n",
    "\n",
    "不懂？查查字典嘛。\n",
    "\n",
    "跟语法书对比一下，看看Spacy分析得是否准确。\n",
    "\n",
    "前面我们分析的，属于语法层级。\n",
    "\n",
    "---\n",
    "\n",
    "# 4. 语义 --- 词向量的近似度计算\n",
    "\n",
    "下面我们看语义。\n",
    "\n",
    "我们利用的工具，叫做词嵌入（word embedding）模型。\n",
    "   \n",
    "   \n",
    "例如给你下面这个式子：\n",
    "\n",
    "** ? - woman = king - queen**\n",
    "\n",
    "只要你学过英语，就不难猜到这里大概率应该填写“**man**”。\n",
    "\n",
    "但是，如果你只是用了随机的序号来代表词汇，又如何能够猜到这里正确的填词结果呢？\n",
    "\n",
    "幸好，在深度学习领域，我们可以使用更为顺手的单词向量化工具——**词嵌入（word embeddings ）**。\n",
    "   \n",
    "###  使用词嵌入模型，我们需要Spacy读取一个新的文件。"
   ]
  },
  {
   "cell_type": "code",
   "execution_count": 48,
   "metadata": {},
   "outputs": [
    {
     "data": {
      "text/plain": [
       "array([ 0.086573  , -0.171844  , -0.0598821 , -0.305533  ,  0.307936  ,\n",
       "        0.0355545 ,  0.105116  , -0.224435  , -0.311538  ,  0.0678949 ,\n",
       "        0.210352  , -0.598067  , -0.0537795 ,  0.0368432 ,  0.00238259,\n",
       "        0.0607405 ,  0.219176  ,  0.1285    ,  0.136532  , -0.262734  ,\n",
       "        0.0633927 ,  0.303448  ,  0.339773  , -0.0648957 , -0.40234   ,\n",
       "       -0.124053  ,  0.118384  ,  0.275841  , -0.396812  ,  0.0730387 ,\n",
       "        0.371536  , -0.227171  , -0.519334  , -0.400849  ,  0.120455  ,\n",
       "        0.455942  , -0.0790584 ,  0.249116  , -0.0663053 , -0.135667  ,\n",
       "        0.10713   ,  0.337216  , -0.284948  ,  0.281498  ,  0.199146  ,\n",
       "        0.367287  , -0.40139   ,  0.111533  , -0.23294   ,  0.022261  ,\n",
       "        0.0603481 ,  0.0824842 , -0.039958  ,  0.504614  , -0.159134  ,\n",
       "        0.199793  , -0.363533  ,  0.352513  ,  0.424153  , -0.0756336 ,\n",
       "        0.0524466 , -0.240301  ,  0.150358  ,  0.365029  , -0.241122  ,\n",
       "       -0.279777  , -0.180369  , -0.388211  , -0.0496945 ,  0.685136  ,\n",
       "       -0.148729  ,  0.0568179 , -0.191319  , -0.0469769 ,  0.391994  ,\n",
       "        0.217979  , -0.329317  , -0.116264  ,  0.0577744 ,  0.00332239,\n",
       "       -0.239343  , -0.219939  ,  0.227753  , -0.208818  , -0.0710573 ,\n",
       "        0.195026  ,  0.047756  , -0.474983  , -0.361846  ,  0.00952136,\n",
       "       -0.394205  ,  0.144878  ,  0.17692   , -0.138302  , -0.0017704 ,\n",
       "       -0.106588  ,  0.385097  ,  0.145052  ,  0.0182719 ,  0.0887895 ,\n",
       "       -0.301803  ,  0.105072  , -0.3866    ,  0.363936  , -0.261401  ,\n",
       "       -0.121592  ,  0.0230701 , -0.536384  ,  0.184612  ,  0.291421  ,\n",
       "        0.269158  , -0.192613  , -0.352558  ,  0.176459  ,  0.168324  ,\n",
       "       -0.382064  ,  0.138589  ,  0.306487  ,  0.312415  , -0.132391  ,\n",
       "       -0.156488  , -0.308362  , -0.273263  , -0.333706  , -0.354764  ,\n",
       "       -0.267177  , -0.108622  ,  0.0352593 ,  0.0519445 ,  0.31288   ,\n",
       "       -0.284344  ,  0.105657  ,  0.00942674,  0.0500277 , -0.175054  ,\n",
       "        0.23902   ,  0.0848738 , -0.0842855 , -0.160529  , -0.152215  ,\n",
       "        0.727408  , -0.448395  ,  0.198574  , -0.31728   ,  0.514063  ,\n",
       "       -0.246273  ,  0.0231198 , -0.40958   ,  0.542037  , -0.0632587 ,\n",
       "       -0.121832  , -0.0907411 ,  0.479518  ,  0.275529  , -0.132961  ,\n",
       "        0.0681389 ,  0.162715  ,  0.0257938 , -0.0725701 ,  0.358761  ,\n",
       "       -0.450667  ,  0.29291   , -0.0805573 ,  0.0695655 ,  0.246091  ,\n",
       "        0.103633  ,  0.154053  , -0.0240475 , -0.138513  ,  0.189813  ,\n",
       "       -0.161752  , -0.250036  , -0.212852  ,  0.0890398 ,  0.424944  ,\n",
       "       -0.0712067 ,  0.285403  ,  0.0568405 , -0.137723  ,  0.217069  ,\n",
       "       -0.0211563 , -0.0130939 , -0.380098  ,  0.339604  , -0.126235  ,\n",
       "       -0.100257  , -0.549933  ,  0.182187  , -0.158762  ,  0.365599  ,\n",
       "        0.0573955 , -0.024793  , -0.0736712 , -0.0362091 , -0.093958  ,\n",
       "        0.0241842 , -0.025464  ,  0.0755847 , -0.00718255, -0.107244  ],\n",
       "      dtype=float32)"
      ]
     },
     "execution_count": 48,
     "metadata": {},
     "output_type": "execute_result"
    }
   ],
   "source": [
    "# nlp = spacy.load('en_core_web_lg')\n",
    "nlp.vocab['minister'].vector   # 打印“minister”这个单词对应的向量取值。可以看到，每个单词，用总长度为300的浮点数组成向量来表示。"
   ]
  },
  {
   "cell_type": "markdown",
   "metadata": {},
   "source": [
    "Spacy读入的这个模型，是采用**word2vec**，在海量语料上训练的结果。\n",
    "\n",
    "\n",
    "我们来看看，此时Spacy的**语义近似度**判别能力。\n",
    "\n",
    "这里，我们将4个变量，赋值为对应单词的向量表达结果。"
   ]
  },
  {
   "cell_type": "code",
   "execution_count": 49,
   "metadata": {
    "collapsed": true
   },
   "outputs": [],
   "source": [
    "dog = nlp.vocab[\"dog\"]\n",
    "cat = nlp.vocab[\"cat\"]\n",
    "apple = nlp.vocab[\"apple\"]\n",
    "orange = nlp.vocab[\"orange\"]"
   ]
  },
  {
   "cell_type": "code",
   "execution_count": 50,
   "metadata": {},
   "outputs": [
    {
     "data": {
      "text/plain": [
       "0.6909422874450684"
      ]
     },
     "execution_count": 50,
     "metadata": {},
     "output_type": "execute_result"
    }
   ],
   "source": [
    "dog.similarity(cat)  # 都是宠物，近似度高，可以接受"
   ]
  },
  {
   "cell_type": "code",
   "execution_count": 51,
   "metadata": {},
   "outputs": [
    {
     "data": {
      "text/plain": [
       "0.2236175835132599"
      ]
     },
     "execution_count": 51,
     "metadata": {},
     "output_type": "execute_result"
    }
   ],
   "source": [
    "dog.similarity(apple)  # 一个动物，一个水果，近似度一下子就跌落下来了"
   ]
  },
  {
   "cell_type": "code",
   "execution_count": 52,
   "metadata": {},
   "outputs": [
    {
     "data": {
      "text/plain": [
       "0.10750492662191391"
      ]
     },
     "execution_count": 52,
     "metadata": {},
     "output_type": "execute_result"
    }
   ],
   "source": [
    "dog.similarity(orange)  # 相似度也不高"
   ]
  },
  {
   "cell_type": "code",
   "execution_count": 53,
   "metadata": {},
   "outputs": [
    {
     "data": {
      "text/plain": [
       "0.4399324655532837"
      ]
     },
     "execution_count": 53,
     "metadata": {},
     "output_type": "execute_result"
    }
   ],
   "source": [
    "apple.similarity(orange)  # 水果间近似度，远远超过水果与动物的相似程度"
   ]
  },
  {
   "cell_type": "markdown",
   "metadata": {},
   "source": [
    "测试通过。\n",
    "\n",
    "看来Spacy利用词嵌入模型，对语义有了一定的理解。\n",
    "\n",
    "---\n",
    "\n",
    "下面为了好玩，我们来考考它。\n",
    "\n",
    "这里，我们需要计算词典中可能不存在的向量，因此Spacy自带的**similarity()函数**，就显得不够用了。\n",
    "\n",
    "我们从scipy中，找到相似度计算需要用到的**余弦函数**。"
   ]
  },
  {
   "cell_type": "code",
   "execution_count": 54,
   "metadata": {
    "collapsed": true
   },
   "outputs": [],
   "source": [
    "from scipy.spatial.distance import cosine"
   ]
  },
  {
   "cell_type": "markdown",
   "metadata": {},
   "source": [
    "对比一下，我们直接代入“狗”和“猫”的向量，进行计算"
   ]
  },
  {
   "cell_type": "code",
   "execution_count": 55,
   "metadata": {},
   "outputs": [
    {
     "data": {
      "text/plain": [
       "0.6909422278404236"
      ]
     },
     "execution_count": 55,
     "metadata": {},
     "output_type": "execute_result"
    }
   ],
   "source": [
    "1 - cosine(dog.vector, cat.vector)"
   ]
  },
  {
   "cell_type": "code",
   "execution_count": null,
   "metadata": {
    "collapsed": true
   },
   "outputs": [],
   "source": [
    "除了保留数字外，计算结果与Spacy自带的similarity()运行结果没有差别。\n",
    "\n",
    "我们把它做成一个小函数，专门处理向量输入。"
   ]
  },
  {
   "cell_type": "code",
   "execution_count": 56,
   "metadata": {
    "collapsed": true
   },
   "outputs": [],
   "source": [
    "def vector_similarity(x, y):\n",
    "    return 1 - cosine(x, y)"
   ]
  },
  {
   "cell_type": "code",
   "execution_count": 57,
   "metadata": {},
   "outputs": [
    {
     "data": {
      "text/plain": [
       "0.2236175835132599"
      ]
     },
     "execution_count": 57,
     "metadata": {},
     "output_type": "execute_result"
    }
   ],
   "source": [
    "vector_similarity(dog.vector, apple.vector)   # 测试一下“狗”和“苹果”"
   ]
  },
  {
   "cell_type": "markdown",
   "metadata": {},
   "source": [
    "与刚才的结果对比，也是一致的。\n",
    "\n",
    "---\n",
    "# 重点来了：  ? - woman = king - queen \n",
    "   \n",
    "我们把问号，称为 **guess_word** "
   ]
  },
  {
   "cell_type": "code",
   "execution_count": 58,
   "metadata": {
    "collapsed": true
   },
   "outputs": [],
   "source": [
    "def make_guess_word(words):\n",
    "    [first, second, third] = words\n",
    "    return nlp.vocab[first].vector - nlp.vocab[second].vector + nlp.vocab[third].vector"
   ]
  },
  {
   "cell_type": "markdown",
   "metadata": {},
   "source": [
    "#### 下面的函数就比较暴力了，它其实是用我们计算的 guess_word 取值，和字典中全部词语一一核对近似性。把最为近似的10个候选单词打印出来。"
   ]
  },
  {
   "cell_type": "code",
   "execution_count": 59,
   "metadata": {
    "collapsed": true
   },
   "outputs": [],
   "source": [
    "def get_similar_word(words, scope=nlp.vocab):\n",
    "    \n",
    "    guess_word = make_guess_word(words)\n",
    "\n",
    "    similarities = []\n",
    "\n",
    "    for word in scope:\n",
    "        if not word.has_vector:\n",
    "            continue\n",
    "\n",
    "        similarity = vector_similarity(guess_word, word.vector)\n",
    "        similarities.append((word, similarity))\n",
    "\n",
    "\n",
    "    similarities = sorted(similarities, key=lambda item: -item[1])\n",
    "    print([word[0].text for word in similarities[:10]])"
   ]
  },
  {
   "cell_type": "code",
   "execution_count": 60,
   "metadata": {},
   "outputs": [
    {
     "name": "stdout",
     "output_type": "stream",
     "text": [
      "['woman', 'king', 'She', 'she', 'patients', 'who', 'he', 'He', 'Mont', 'Those']\n"
     ]
    }
   ],
   "source": [
    "words = [\"king\", \"queen\", \"woman\"]\n",
    "get_similar_word(words)"
   ]
  },
  {
   "cell_type": "markdown",
   "metadata": {},
   "source": [
    "原来字典里面，“男人”(man)这个词汇有这么多的变形啊。\n",
    "\n",
    "---\n",
    "但是这个例子太经典了，我们尝试个新鲜一些的：\n",
    "###   ? - England = Paris - London\n",
    "    \n",
    "左侧国别，右侧首都，对应来看，自然是巴黎所在的法国（France）。\n",
    "\n",
    "问题是，Spacy能猜对吗？"
   ]
  },
  {
   "cell_type": "code",
   "execution_count": 61,
   "metadata": {},
   "outputs": [
    {
     "name": "stdout",
     "output_type": "stream",
     "text": [
      "['England', 'Paris', 'Mich', 'Okla.', 'Pa.', 'Conn.', 'Colo.', 'Nev', 'Cuz', 'Doin']\n"
     ]
    }
   ],
   "source": [
    "words = [\"Paris\", \"London\", \"England\"]\n",
    "get_similar_word(words)"
   ]
  },
  {
   "cell_type": "markdown",
   "metadata": {},
   "source": [
    "结果很令人振奋，前三个都是“法国”（France）。\n",
    "\n",
    "--- "
   ]
  },
  {
   "cell_type": "markdown",
   "metadata": {},
   "source": [
    "# 5. 词向量降维和可视化\n",
    "下面我们做一个更有趣的事儿，把词向量的300维的高空间维度，压缩到一张纸（二维）上，看看词语之间的相对位置关系。"
   ]
  },
  {
   "cell_type": "code",
   "execution_count": 62,
   "metadata": {
    "collapsed": true
   },
   "outputs": [],
   "source": [
    "import numpy as np\n",
    "embedding = np.array([])  # 把词嵌入矩阵先设定为空。一会儿慢慢填入。\n",
    "word_list = []            # 需要演示的单词列表，也先空着。"
   ]
  },
  {
   "cell_type": "markdown",
   "metadata": {},
   "source": [
    "再次让Spacy遍历“Yes, Minister”维基页面中摘取的那段文字，加入到单词列表中。注意这次我们要进行判断：\n",
    "\n",
    "- 如果是标点，丢弃；\n",
    "- 如果词汇已经在词语列表中，丢弃。"
   ]
  },
  {
   "cell_type": "code",
   "execution_count": 63,
   "metadata": {
    "collapsed": true
   },
   "outputs": [],
   "source": [
    "for token in doc:\n",
    "    if not(token.is_punct) and not(token.text in word_list):\n",
    "        word_list.append(token.text)"
   ]
  },
  {
   "cell_type": "code",
   "execution_count": 106,
   "metadata": {},
   "outputs": [
    {
     "data": {
      "text/plain": [
       "['The',\n",
       " 'sequel',\n",
       " 'Yes',\n",
       " 'Prime',\n",
       " 'Minister',\n",
       " 'ran',\n",
       " 'from',\n",
       " '1986',\n",
       " 'to',\n",
       " '1988',\n",
       " 'In',\n",
       " 'total',\n",
       " 'there',\n",
       " 'were',\n",
       " '38',\n",
       " 'episodes',\n",
       " 'of',\n",
       " 'which',\n",
       " 'all',\n",
       " 'but',\n",
       " 'one',\n",
       " 'lasted',\n",
       " 'half',\n",
       " 'an',\n",
       " 'hour',\n",
       " 'Almost',\n",
       " 'ended',\n",
       " 'with',\n",
       " 'a',\n",
       " 'variation',\n",
       " 'the',\n",
       " 'title',\n",
       " 'series',\n",
       " 'spoken',\n",
       " 'as',\n",
       " 'answer',\n",
       " 'question',\n",
       " 'posed',\n",
       " 'by',\n",
       " 'same',\n",
       " 'character',\n",
       " 'Jim',\n",
       " 'Hacker',\n",
       " 'Several',\n",
       " 'adapted',\n",
       " 'for',\n",
       " 'BBC',\n",
       " 'Radio',\n",
       " 'and',\n",
       " 'stage',\n",
       " 'play',\n",
       " 'was',\n",
       " 'produced',\n",
       " 'in',\n",
       " '2010',\n",
       " 'latter',\n",
       " 'leading',\n",
       " 'new',\n",
       " 'television',\n",
       " 'on',\n",
       " 'UKTV',\n",
       " 'Gold',\n",
       " '2013']"
      ]
     },
     "execution_count": 106,
     "metadata": {},
     "output_type": "execute_result"
    }
   ],
   "source": [
    "word_list"
   ]
  },
  {
   "cell_type": "markdown",
   "metadata": {},
   "source": [
    "检查了一下，一长串（63个）词语列表中，没有出现标点。一切正常。\n",
    "\n",
    "下面，我们把每个词汇对应的空间向量，追加到词嵌入矩阵中。"
   ]
  },
  {
   "cell_type": "code",
   "execution_count": 64,
   "metadata": {},
   "outputs": [
    {
     "data": {
      "text/plain": [
       "(3400,)"
      ]
     },
     "execution_count": 64,
     "metadata": {},
     "output_type": "execute_result"
    }
   ],
   "source": [
    "for word in word_list:\n",
    "    embedding = np.append(embedding, nlp.vocab[word].vector)\n",
    "embedding.shape"
   ]
  },
  {
   "cell_type": "markdown",
   "metadata": {},
   "source": [
    "可以看到，所有的向量内容，都被放在了一个长串上面。这显然不符合我们的要求，我们将不同的单词对应的词向量，拆解到不同行上面去。"
   ]
  },
  {
   "cell_type": "code",
   "execution_count": 65,
   "metadata": {},
   "outputs": [
    {
     "data": {
      "text/plain": [
       "(17, 200)"
      ]
     },
     "execution_count": 65,
     "metadata": {},
     "output_type": "execute_result"
    }
   ],
   "source": [
    "embedding = embedding.reshape(len(word_list), -1)  # 将不同的单词对应的词向量，拆解到不同行上面去\n",
    "embedding.shape    # 变换后词嵌入矩阵的维度"
   ]
  },
  {
   "cell_type": "markdown",
   "metadata": {},
   "source": [
    "63个词汇，每个为长度300的向量，这就对了。\n",
    "\n",
    "---"
   ]
  },
  {
   "cell_type": "code",
   "execution_count": 66,
   "metadata": {
    "collapsed": true
   },
   "outputs": [
    {
     "name": "stderr",
     "output_type": "stream",
     "text": [
      "/home/data/t200404/software/anaconda3/envs/python37_tsf_3/lib/python3.7/site-packages/sklearn/manifold/_t_sne.py:783: FutureWarning: The default initialization in TSNE will change from 'random' to 'pca' in 1.2.\n",
      "  FutureWarning,\n",
      "/home/data/t200404/software/anaconda3/envs/python37_tsf_3/lib/python3.7/site-packages/sklearn/manifold/_t_sne.py:793: FutureWarning: The default learning rate in TSNE will change from 200.0 to 'auto' in 1.2.\n",
      "  FutureWarning,\n"
     ]
    }
   ],
   "source": [
    "from sklearn.manifold import TSNE # 读入TSNE模块\n",
    "tsne = TSNE()   # tsne的作用，是把高维度的词向量（300维）压缩到二维平面上。我们执行这个转换过程：\n",
    "\n",
    "low_dim_embedding = tsne.fit_transform(embedding)"
   ]
  },
  {
   "cell_type": "markdown",
   "metadata": {},
   "source": [
    "    "
   ]
  },
  {
   "cell_type": "code",
   "execution_count": 68,
   "metadata": {},
   "outputs": [
    {
     "name": "stdout",
     "output_type": "stream",
     "text": [
      "Populating the interactive namespace from numpy and matplotlib\n"
     ]
    },
    {
     "name": "stderr",
     "output_type": "stream",
     "text": [
      "/home/data/t200404/software/anaconda3/envs/python37_tsf_3/lib/python3.7/site-packages/IPython/core/magics/pylab.py:160: UserWarning: pylab import has clobbered these variables: ['text']\n",
      "`%matplotlib` prevents importing * from pylab and numpy\n",
      "  \"\\n`%matplotlib` prevents importing * from pylab and numpy\"\n"
     ]
    }
   ],
   "source": [
    "import matplotlib.pyplot as plt    # 用matplotlib 将二维降维后的词向量们画出来\n",
    "%pylab inline   "
   ]
  },
  {
   "cell_type": "code",
   "execution_count": 70,
   "metadata": {
    "collapsed": true
   },
   "outputs": [],
   "source": [
    "def plot_with_labels(low_dim_embs, labels, filename='tsne.pdf'):\n",
    "    assert low_dim_embs.shape[0] >= len(labels), \"More labels than embeddings\"\n",
    "    plt.figure(figsize=(18, 18))  # in inches\n",
    "    for i, label in enumerate(labels):\n",
    "        x, y = low_dim_embs[i, :]\n",
    "        plt.scatter(x, y)\n",
    "        plt.annotate(label,\n",
    "                 xy=(x, y),\n",
    "                 xytext=(5, 2),\n",
    "                 textcoords='offset points',\n",
    "                 ha='right',\n",
    "                 va='bottom')\n",
    "    plt.savefig(filename)"
   ]
  },
  {
   "cell_type": "code",
   "execution_count": 73,
   "metadata": {},
   "outputs": [
    {
     "data": {
      "image/png": "[encoded data removed]",
      "text/plain": [
       "<Figure size 1800x1800 with 1 Axes>"
      ]
     },
     "metadata": {},
     "output_type": "display_data"
    }
   ],
   "source": [
    "plot_with_labels(low_dim_embedding, word_list)"
   ]
  },
  {
   "cell_type": "markdown",
   "metadata": {
    "collapsed": true
   },
   "source": [
    "请注意观察图中的几个部分：\n",
    "\n",
    "年份\n",
    "\n",
    "同一单词的大小写形式\n",
    "\n",
    "Radio 和 television\n",
    "\n",
    "a 和 an\n",
    "\n",
    "看看有什么规律没有？\n",
    "\n",
    "我发现了一个有意思的现象——每次运行tsne，产生的二维可视化图都不一样！\n",
    "\n",
    "不过这也正常，因为这段话之中出现的单词，并非都有预先训练好的向量。\n",
    "\n",
    "这样的单词，被Spacy进行了随机化等处理。\n",
    "\n",
    "因此，每一次生成高维向量，结果都不同。不同的高维向量，压缩到二维，结果自然也会有区别。\n",
    "\n",
    "问题来了，如果我希望每次运行的结果都一致，该如何处理呢？\n",
    "\n",
    "这个问题，作为课后思考题，留给你自行解答。\n",
    "\n",
    "细心的你可能发现了，执行完最后一条语句后，页面左侧边栏文件列表中，出现了一个新的pdf文件。"
   ]
  },
  {
   "cell_type": "code",
   "execution_count": 77,
   "metadata": {
    "collapsed": true
   },
   "outputs": [
    {
     "data": {
      "text/html": [
       "<div>\n",
       "<style scoped>\n",
       "    .dataframe tbody tr th:only-of-type {\n",
       "        vertical-align: middle;\n",
       "    }\n",
       "\n",
       "    .dataframe tbody tr th {\n",
       "        vertical-align: top;\n",
       "    }\n",
       "\n",
       "    .dataframe thead th {\n",
       "        text-align: right;\n",
       "    }\n",
       "</style>\n",
       "<table border=\"1\" class=\"dataframe\">\n",
       "  <thead>\n",
       "    <tr style=\"text-align: right;\">\n",
       "      <th></th>\n",
       "      <th>lkey</th>\n",
       "      <th>value</th>\n",
       "    </tr>\n",
       "  </thead>\n",
       "  <tbody>\n",
       "    <tr>\n",
       "      <th>0</th>\n",
       "      <td>foo</td>\n",
       "      <td>1</td>\n",
       "    </tr>\n",
       "    <tr>\n",
       "      <th>1</th>\n",
       "      <td>bar</td>\n",
       "      <td>2</td>\n",
       "    </tr>\n",
       "    <tr>\n",
       "      <th>2</th>\n",
       "      <td>baz</td>\n",
       "      <td>3</td>\n",
       "    </tr>\n",
       "    <tr>\n",
       "      <th>3</th>\n",
       "      <td>foo</td>\n",
       "      <td>5</td>\n",
       "    </tr>\n",
       "  </tbody>\n",
       "</table>\n",
       "</div>"
      ],
      "text/plain": [
       "  lkey  value\n",
       "0  foo      1\n",
       "1  bar      2\n",
       "2  baz      3\n",
       "3  foo      5"
      ]
     },
     "execution_count": 77,
     "metadata": {},
     "output_type": "execute_result"
    }
   ],
   "source": [
    "import pandas as pd\n",
    "\n",
    "df1 = pd.DataFrame({'lkey': ['foo', 'bar', 'baz', 'foo'],\n",
    "                    'value': [1, 2, 3, 5]})\n",
    "df1"
   ]
  },
  {
   "cell_type": "code",
   "execution_count": null,
   "metadata": {},
   "outputs": [],
   "source": []
  }
 ],
 "metadata": {
  "kernelspec": {
   "display_name": "Python 3",
   "language": "python",
   "name": "python3"
  },
  "language_info": {
   "codemirror_mode": {
    "name": "ipython",
    "version": 3
   },
   "file_extension": ".py",
   "mimetype": "text/x-python",
   "name": "python",
   "nbconvert_exporter": "python",
   "pygments_lexer": "ipython3",
   "version": "3.7.16"
  }
 },
 "nbformat": 4,
 "nbformat_minor": 2
}
